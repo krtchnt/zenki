{
    "metadata": {
        "kernelspec": {
            "name": "SQL",
            "display_name": "SQL",
            "language": "sql"
        },
        "language_info": {
            "name": "sql",
            "version": ""
        }
    },
    "nbformat_minor": 2,
    "nbformat": 4,
    "cells": [
        {
            "cell_type": "code",
            "source": [
                "DROP TABLE IF EXISTS users,developers,games,developer_game,tags,friends,reviews,game_tag,game_interaction,game_user,purchases,transections;\n",
                "DROP TYPE IF EXISTS rating_n,purchase_n,payment_n;\n",
                "\n",
                "\n",
                "CREATE TYPE rating_n AS ENUM ('general','mature','sensitive');\n",
                "CREATE TYPE purchase_n AS ENUM ('game_purchase','in_game_purchase','subscriptions','DLC','etc');\n",
                "CREATE TYPE payment_n AS ENUM ('credit_card','debit_card','paypal','etc');\n",
                "\n",
                "CREATE TABLE developers(\n",
                "    did serial PRIMARY KEY,\n",
                "    dname VARCHAR(50),\n",
                "    descr TEXT\n",
                ");\n",
                "CREATE TABLE tags(\n",
                "    tname VARCHAR(50) PRIMARY KEY,\n",
                "    descr TEXT\n",
                ");\n",
                "CREATE TABLE users(\n",
                "    uid serial PRIMARY KEY,\n",
                "    uname VARCHAR(50),\n",
                "    created_at TIMESTAMP,\n",
                "    bio TEXT,\n",
                "    birth_date DATE\n",
                ");\n",
                "CREATE TABLE friends(\n",
                "    uid int not NULL,\n",
                "    fid int not NULL,\n",
                "    added_at TIMESTAMP,\n",
                "    pending boolean,\n",
                "    PRIMARY KEY(uid,fid),\n",
                "    FOREIGN KEY (uid) REFERENCES users(uid),\n",
                "    FOREIGN KEY (fid) REFERENCES users(uid)\n",
                ");\n",
                "\n",
                "\n",
                "\n",
                "CREATE TABLE games(\n",
                "    gid serial PRIMARY KEY,\n",
                "    did  INT REFERENCES developers(did),\n",
                "    gname VARCHAR(50),\n",
                "    descr TEXT,\n",
                "    rating rating_n,\n",
                "    release_at TIMESTAMP\n",
                ");\n",
                "\n",
                "CREATE TABLE reviews(\n",
                "    rid serial PRIMARY KEY,\n",
                "    uid int REFERENCES users(uid),\n",
                "    gid int REFERENCES games(gid),\n",
                "    rated float,\n",
                "    reviewed_text TEXT,\n",
                "    reviewed_at TIMESTAMP\n",
                ");\n",
                "CREATE TABLE game_tag(\n",
                "    tname VARCHAR(50) not NULL,\n",
                "    gid int NOT NULL,\n",
                "    PRIMARY KEY(tname,gid),\n",
                "    FOREIGN KEY (tname) REFERENCES tags(tname),\n",
                "    FOREIGN KEY (gid) REFERENCES games(gid)\n",
                ");\n",
                "CREATE TABLE game_interaction(\n",
                "    uid INT,\n",
                "    gid INT,\n",
                "    startplay_at TIMESTAMP,\n",
                "    duration INTERVAL,\n",
                "    PRIMARY key (uid,gid),\n",
                "    FOREIGN KEY (uid) REFERENCES users(uid),\n",
                "    FOREIGN KEY (gid) REFERENCES games(gid)\n",
                ");\n",
                "CREATE TABLE game_user(\n",
                "    gid int,\n",
                "    uid int,\n",
                "    wishlist boolean,\n",
                "    PRIMARY KEY (gid,uid),\n",
                "    FOREIGN KEY (gid) REFERENCES games(gid),\n",
                "    FOREIGN KEY (uid) REFERENCES users(uid)\n",
                ");\n",
                "\n",
                "CREATE TABLE purchases(\n",
                "    pid serial PRIMARY KEY,\n",
                "    gid INT REFERENCES games(gid),\n",
                "    purchase_type purchase_n,\n",
                "    price float,\n",
                "    descr TEXT\n",
                ");\n",
                "\n",
                "CREATE TABLE developer_game (\n",
                "    gid int ,\n",
                "    did int ,\n",
                "    PRIMARY KEY (gid,did),\n",
                "    FOREIGN KEY (gid) REFERENCES games(gid),\n",
                "    FOREIGN KEY (did) REFERENCES developers(did)\n",
                ");\n",
                "\n",
                "CREATE TABLE transections(\n",
                "    tid serial PRIMARY KEY,\n",
                "    uid int REFERENCES users(uid),\n",
                "    receiver_uid int REFERENCES users(uid),\n",
                "    pid int REFERENCES purchases(pid),\n",
                "    payment_method payment_n,\n",
                "    bought_at TIMESTAMP\n",
                "\n",
                ");"
            ],
            "metadata": {
                "azdata_cell_guid": "973a0323-2e94-42da-8306-077c95396682",
                "language": "sql"
            },
            "outputs": [
                {
                    "output_type": "display_data",
                    "data": {
                        "text/html": "NOTICE: table \"users\" does not exist, skipping\nNOTICE: table \"developers\" does not exist, skipping\nNOTICE: table \"games\" does not exist, skipping\nNOTICE: table \"developer_game\" does not exist, skipping\nNOTICE: table \"tags\" does not exist, skipping\nNOTICE: table \"friends\" does not exist, skipping\nNOTICE: table \"reviews\" does not exist, skipping\nNOTICE: table \"game_tag\" does not exist, skipping\nNOTICE: table \"game_interaction\" does not exist, skipping\nNOTICE: table \"game_user\" does not exist, skipping\nNOTICE: table \"purchases\" does not exist, skipping\nNOTICE: table \"transections\" does not exist, skipping"
                    },
                    "metadata": {}
                },
                {
                    "output_type": "display_data",
                    "data": {
                        "text/html": "DROP TABLE"
                    },
                    "metadata": {}
                },
                {
                    "output_type": "display_data",
                    "data": {
                        "text/html": "NOTICE: type \"rating_n\" does not exist, skipping\nNOTICE: type \"purchase_n\" does not exist, skipping\nNOTICE: type \"payment_n\" does not exist, skipping"
                    },
                    "metadata": {}
                },
                {
                    "output_type": "display_data",
                    "data": {
                        "text/html": "DROP TYPE"
                    },
                    "metadata": {}
                },
                {
                    "output_type": "display_data",
                    "data": {
                        "text/html": "CREATE TYPE"
                    },
                    "metadata": {}
                },
                {
                    "output_type": "display_data",
                    "data": {
                        "text/html": "CREATE TYPE"
                    },
                    "metadata": {}
                },
                {
                    "output_type": "display_data",
                    "data": {
                        "text/html": "CREATE TYPE"
                    },
                    "metadata": {}
                },
                {
                    "output_type": "display_data",
                    "data": {
                        "text/html": "CREATE TABLE"
                    },
                    "metadata": {}
                },
                {
                    "output_type": "display_data",
                    "data": {
                        "text/html": "CREATE TABLE"
                    },
                    "metadata": {}
                },
                {
                    "output_type": "display_data",
                    "data": {
                        "text/html": "CREATE TABLE"
                    },
                    "metadata": {}
                },
                {
                    "output_type": "display_data",
                    "data": {
                        "text/html": "CREATE TABLE"
                    },
                    "metadata": {}
                },
                {
                    "output_type": "display_data",
                    "data": {
                        "text/html": "CREATE TABLE"
                    },
                    "metadata": {}
                },
                {
                    "output_type": "display_data",
                    "data": {
                        "text/html": "CREATE TABLE"
                    },
                    "metadata": {}
                },
                {
                    "output_type": "display_data",
                    "data": {
                        "text/html": "CREATE TABLE"
                    },
                    "metadata": {}
                },
                {
                    "output_type": "display_data",
                    "data": {
                        "text/html": "CREATE TABLE"
                    },
                    "metadata": {}
                },
                {
                    "output_type": "display_data",
                    "data": {
                        "text/html": "CREATE TABLE"
                    },
                    "metadata": {}
                },
                {
                    "output_type": "display_data",
                    "data": {
                        "text/html": "CREATE TABLE"
                    },
                    "metadata": {}
                },
                {
                    "output_type": "display_data",
                    "data": {
                        "text/html": "CREATE TABLE"
                    },
                    "metadata": {}
                },
                {
                    "output_type": "display_data",
                    "data": {
                        "text/html": "CREATE TABLE"
                    },
                    "metadata": {}
                },
                {
                    "output_type": "display_data",
                    "data": {
                        "text/html": "Total execution time: 00:00:00.225"
                    },
                    "metadata": {}
                }
            ],
            "execution_count": 35
        }
    ]
}