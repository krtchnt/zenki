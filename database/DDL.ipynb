{
    "cells": [
        {
            "cell_type": "code",
            "execution_count": null,
            "metadata": {
                "azdata_cell_guid": "973a0323-2e94-42da-8306-077c95396682",
                "language": "sql"
            },
            "outputs": [
                {
                    "data": {
                        "text/html": [
                            "NOTICE: table \"users\" does not exist, skipping\n",
                            "NOTICE: table \"developers\" does not exist, skipping\n",
                            "NOTICE: table \"games\" does not exist, skipping\n",
                            "NOTICE: table \"developer_game\" does not exist, skipping\n",
                            "NOTICE: table \"tags\" does not exist, skipping\n",
                            "NOTICE: table \"friends\" does not exist, skipping\n",
                            "NOTICE: table \"reviews\" does not exist, skipping\n",
                            "NOTICE: table \"game_tag\" does not exist, skipping\n",
                            "NOTICE: table \"game_interaction\" does not exist, skipping\n",
                            "NOTICE: table \"game_user\" does not exist, skipping\n",
                            "NOTICE: table \"purchases\" does not exist, skipping\n",
                            "NOTICE: table \"transections\" does not exist, skipping"
                        ]
                    },
                    "metadata": {},
                    "output_type": "display_data"
                },
                {
                    "data": {
                        "text/html": [
                            "DROP TABLE"
                        ]
                    },
                    "metadata": {},
                    "output_type": "display_data"
                },
                {
                    "data": {
                        "text/html": [
                            "NOTICE: type \"rating_n\" does not exist, skipping\n",
                            "NOTICE: type \"purchase_n\" does not exist, skipping\n",
                            "NOTICE: type \"payment_n\" does not exist, skipping"
                        ]
                    },
                    "metadata": {},
                    "output_type": "display_data"
                },
                {
                    "data": {
                        "text/html": [
                            "DROP TYPE"
                        ]
                    },
                    "metadata": {},
                    "output_type": "display_data"
                },
                {
                    "data": {
                        "text/html": [
                            "CREATE TYPE"
                        ]
                    },
                    "metadata": {},
                    "output_type": "display_data"
                },
                {
                    "data": {
                        "text/html": [
                            "CREATE TYPE"
                        ]
                    },
                    "metadata": {},
                    "output_type": "display_data"
                },
                {
                    "data": {
                        "text/html": [
                            "CREATE TYPE"
                        ]
                    },
                    "metadata": {},
                    "output_type": "display_data"
                },
                {
                    "data": {
                        "text/html": [
                            "CREATE TABLE"
                        ]
                    },
                    "metadata": {},
                    "output_type": "display_data"
                },
                {
                    "data": {
                        "text/html": [
                            "CREATE TABLE"
                        ]
                    },
                    "metadata": {},
                    "output_type": "display_data"
                },
                {
                    "data": {
                        "text/html": [
                            "CREATE TABLE"
                        ]
                    },
                    "metadata": {},
                    "output_type": "display_data"
                },
                {
                    "data": {
                        "text/html": [
                            "CREATE TABLE"
                        ]
                    },
                    "metadata": {},
                    "output_type": "display_data"
                },
                {
                    "data": {
                        "text/html": [
                            "CREATE TABLE"
                        ]
                    },
                    "metadata": {},
                    "output_type": "display_data"
                },
                {
                    "data": {
                        "text/html": [
                            "CREATE TABLE"
                        ]
                    },
                    "metadata": {},
                    "output_type": "display_data"
                },
                {
                    "data": {
                        "text/html": [
                            "CREATE TABLE"
                        ]
                    },
                    "metadata": {},
                    "output_type": "display_data"
                },
                {
                    "data": {
                        "text/html": [
                            "CREATE TABLE"
                        ]
                    },
                    "metadata": {},
                    "output_type": "display_data"
                },
                {
                    "data": {
                        "text/html": [
                            "CREATE TABLE"
                        ]
                    },
                    "metadata": {},
                    "output_type": "display_data"
                },
                {
                    "data": {
                        "text/html": [
                            "CREATE TABLE"
                        ]
                    },
                    "metadata": {},
                    "output_type": "display_data"
                },
                {
                    "data": {
                        "text/html": [
                            "CREATE TABLE"
                        ]
                    },
                    "metadata": {},
                    "output_type": "display_data"
                },
                {
                    "data": {
                        "text/html": [
                            "CREATE TABLE"
                        ]
                    },
                    "metadata": {},
                    "output_type": "display_data"
                },
                {
                    "data": {
                        "text/html": [
                            "Total execution time: 00:00:00.225"
                        ]
                    },
                    "metadata": {},
                    "output_type": "display_data"
                }
            ],
            "source": [
                "DROP TABLE IF EXISTS transactions, developer_game, purchases, game_user, game_interaction, game_tag, reviews, friends, users, games, developers, tags; \n",
                "DROP TYPE IF EXISTS rating_n, purchase_n, payment_n;   \n",
                "\n",
                "CREATE TYPE rating_n AS ENUM ('general', 'mature', 'sensitive'); \n",
                "CREATE TYPE purchase_n AS ENUM ('game_purchase', 'in_game_purchase', 'subscriptions', 'DLC', 'etc'); \n",
                "CREATE TYPE payment_n AS ENUM ('credit_card', 'debit_card', 'paypal', 'etc');   \n",
                "\n",
                "CREATE TABLE developers(\n",
                "    did serial PRIMARY KEY,\n",
                "    dname VARCHAR(50) NOT NULL,\n",
                "    descr TEXT,\n",
                "    created_at TIMESTAMP DEFAULT CURRENT_TIMESTAMP\n",
                ");  \n",
                "\n",
                "CREATE TABLE tags(\n",
                "    tname VARCHAR(50) PRIMARY KEY,\n",
                "    descr TEXT,\n",
                "    category VARCHAR(30)\n",
                ");  \n",
                "\n",
                "CREATE TABLE users(\n",
                "    uid serial PRIMARY KEY,\n",
                "    uname VARCHAR(50) NOT NULL UNIQUE,\n",
                "    passwd VARCHAR(50) NOT NULL,\n",
                "    email VARCHAR(100) UNIQUE,\n",
                "    created_at TIMESTAMP DEFAULT CURRENT_TIMESTAMP,\n",
                "    bio TEXT,\n",
                "    birth_date DATE\n",
                ");  \n",
                "\n",
                "CREATE TABLE games(\n",
                "    gid serial PRIMARY KEY,\n",
                "    gname VARCHAR(50) NOT NULL,\n",
                "    descr TEXT,\n",
                "    rating rating_n NOT NULL DEFAULT 'general',\n",
                "    release_at TIMESTAMP,\n",
                "    created_at TIMESTAMP DEFAULT CURRENT_TIMESTAMP\n",
                ");   \n",
                "\n",
                "CREATE TABLE friends(\n",
                "    uid int NOT NULL,\n",
                "    fid int NOT NULL,\n",
                "    added_at TIMESTAMP DEFAULT CURRENT_TIMESTAMP,\n",
                "    pending boolean NOT NULL DEFAULT TRUE,\n",
                "    PRIMARY KEY(uid, fid),\n",
                "    FOREIGN KEY (uid) REFERENCES users(uid) ON DELETE CASCADE,\n",
                "    FOREIGN KEY (fid) REFERENCES users(uid) ON DELETE CASCADE,\n",
                "    CHECK (uid != fid)\n",
                ");  \n",
                "\n",
                "CREATE TABLE reviews(\n",
                "    rid serial PRIMARY KEY,\n",
                "    uid int NOT NULL REFERENCES users(uid) ON DELETE CASCADE,\n",
                "    gid int NOT NULL REFERENCES games(gid) ON DELETE CASCADE,\n",
                "    rated float CHECK (rated >= 0 AND rated <= 5),\n",
                "    reviewed_text TEXT,\n",
                "    reviewed_at TIMESTAMP DEFAULT CURRENT_TIMESTAMP\n",
                ");  \n",
                "\n",
                "CREATE TABLE game_tag(\n",
                "    tname VARCHAR(50) NOT NULL,\n",
                "    gid int NOT NULL,\n",
                "    PRIMARY KEY(tname, gid),\n",
                "    FOREIGN KEY (tname) REFERENCES tags(tname) ON DELETE CASCADE,\n",
                "    FOREIGN KEY (gid) REFERENCES games(gid) ON DELETE CASCADE\n",
                ");  \n",
                "\n",
                "CREATE TABLE game_interaction(\n",
                "    uid INT NOT NULL,\n",
                "    gid INT NOT NULL,\n",
                "    startplay_at TIMESTAMP NOT NULL,\n",
                "    duration INTERVAL,\n",
                "    PRIMARY KEY (uid, gid, startplay_at),\n",
                "    FOREIGN KEY (uid) REFERENCES users(uid) ON DELETE CASCADE,\n",
                "    FOREIGN KEY (gid) REFERENCES games(gid) ON DELETE CASCADE\n",
                ");  \n",
                "\n",
                "CREATE TABLE game_user(\n",
                "    gid int NOT NULL,\n",
                "    uid int NOT NULL,\n",
                "    wishlist boolean DEFAULT FALSE,\n",
                "    PRIMARY KEY (gid, uid),\n",
                "    FOREIGN KEY (gid) REFERENCES games(gid) ON DELETE CASCADE,\n",
                "    FOREIGN KEY (uid) REFERENCES users(uid) ON DELETE CASCADE\n",
                ");  \n",
                "\n",
                "CREATE TABLE purchases(\n",
                "    pid serial PRIMARY KEY,\n",
                "    gid INT NOT NULL REFERENCES games(gid) ON DELETE CASCADE,\n",
                "    purchase_type purchase_n NOT NULL,\n",
                "    price float NOT NULL CHECK (price >= 0),\n",
                "    descr TEXT,\n",
                "    created_at TIMESTAMP DEFAULT CURRENT_TIMESTAMP\n",
                ");  \n",
                "\n",
                "CREATE TABLE developer_game(\n",
                "    gid int NOT NULL,\n",
                "    did int NOT NULL,\n",
                "    role VARCHAR(30), -- 'developer', 'publisher', etc.\n",
                "    PRIMARY KEY (gid, did),\n",
                "    FOREIGN KEY (gid) REFERENCES games(gid) ON DELETE CASCADE,\n",
                "    FOREIGN KEY (did) REFERENCES developers(did) ON DELETE CASCADE\n",
                ");  \n",
                "\n",
                "CREATE TABLE transactions(\n",
                "    tid serial PRIMARY KEY,\n",
                "    uid int NOT NULL REFERENCES users(uid) ON DELETE CASCADE,\n",
                "    receiver_uid int REFERENCES users(uid) ON DELETE SET NULL,\n",
                "    pid int NOT NULL REFERENCES purchases(pid) ON DELETE CASCADE,\n",
                "    payment_method payment_n NOT NULL,\n",
                "    amount float NOT NULL CHECK (amount > 0),\n",
                "    bought_at TIMESTAMP DEFAULT CURRENT_TIMESTAMP,\n",
                "    status VARCHAR(20) DEFAULT 'completed'\n",
                ");  \n",
                "\n",
                "CREATE INDEX idx_games_name ON games(gname); \n",
                "CREATE INDEX idx_games_release ON games(release_at); \n",
                "CREATE INDEX idx_user_game_wishlist ON game_user(uid) WHERE wishlist = TRUE;  \n",
                "CREATE INDEX idx_transactions_user ON transactions(uid);"
            ]
        }
    ],
    "metadata": {
        "kernelspec": {
            "display_name": "SQL",
            "language": "sql",
            "name": "SQL"
        },
        "language_info": {
            "name": "sql",
            "version": ""
        }
    },
    "nbformat": 4,
    "nbformat_minor": 2
}
